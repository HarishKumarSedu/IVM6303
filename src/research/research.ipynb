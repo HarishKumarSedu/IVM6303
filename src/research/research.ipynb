{
 "cells": [
  {
   "cell_type": "markdown",
   "metadata": {},
   "source": [
    "### Extract the dft data"
   ]
  },
  {
   "cell_type": "code",
   "execution_count": 1,
   "metadata": {},
   "outputs": [
    {
     "data": {
      "text/plain": [
       "'c:\\\\Users\\\\harkum\\\\Documents\\\\6303\\\\src'"
      ]
     },
     "execution_count": 1,
     "metadata": {},
     "output_type": "execute_result"
    }
   ],
   "source": [
    "import os \n",
    "os.chdir('../')\n",
    "os.getcwd()"
   ]
  },
  {
   "cell_type": "code",
   "execution_count": 4,
   "metadata": {},
   "outputs": [
    {
     "data": {
      "text/plain": [
       "Index(['Unnamed: 0', 'High', 'High.1'], dtype='object')"
      ]
     },
     "execution_count": 4,
     "metadata": {},
     "output_type": "execute_result"
    }
   ],
   "source": [
    "import pandas as pd \n",
    "\n"
   ]
  },
  {
   "cell_type": "code",
   "execution_count": 27,
   "metadata": {},
   "outputs": [
    {
     "name": "stdout",
     "output_type": "stream",
     "text": [
      "['PGM production self consistent']\n",
      "Index(['High', 'High.1', 'High.2'], dtype='object')\n"
     ]
    }
   ],
   "source": [
    "import re \n",
    "import json\n",
    "import openpyxl\n",
    "import yaml\n",
    "\n",
    "sheetnames =  openpyxl.load_workbook('raw_data/IVM6303_ATE_Test_Plan_Rev1.xlsx').sheetnames\n",
    "config = {}\n",
    "print(sheetnames)\n",
    "for sheet in sheetnames:\n",
    "    data = pd.read_excel('raw_data/IVM6303_ATE_Test_Plan_Rev1.xlsx',sheet_name=sheet)\n",
    "    dataset = {}\n",
    "    sheet = re.sub('[!-\\/:-@[-`{-~\\s]','_', sheet) \n",
    "    tests = []\n",
    "    print(data.columns[1:])\n",
    "    for column in data.columns[1:]:\n",
    "        tests.append(re.sub('[!-\\/:-@[-`{-~\\s]','_',data[column][2]))\n",
    "        dataset.update(\n",
    "            {\n",
    "                tests[-1]: {\n",
    "                    \"TestNumber\" :data[column][1],\n",
    "                    \"TestStatus\" :data[column][0],\n",
    "                    \"TestData\" :data[column][3],\n",
    "                    \"Limits\" : {\n",
    "                        \"Min\" : data[column][4],\n",
    "                        \"Min Value/%\" : data[column][5],\n",
    "                        \"Min Value/%\" : data[column][5],\n",
    "                        \"Value\" : data[column][6],\n",
    "                        \"Max\" : data[column][7],\n",
    "                        \"Max Value/%\" : data[column][8],\n",
    "                        },\n",
    "                }\n",
    "            }\n",
    "        )\n",
    "    config.update({\n",
    "        sheet:tests\n",
    "    })\n",
    "    \n",
    "    with open(f'raw_data/{sheet}_data.json','w') as file:\n",
    "        json.dump(dataset, file)\n",
    "    \n",
    "with open(f'config.yaml','w') as file:\n",
    "    yaml.dump({\"TestBench\":config}, file)\n",
    "    "
   ]
  },
  {
   "cell_type": "code",
   "execution_count": 39,
   "metadata": {},
   "outputs": [
    {
     "name": "stdout",
     "output_type": "stream",
     "text": [
      "400\n"
     ]
    }
   ],
   "source": [
    "import requests\n",
    "from requests_ntlm import HttpNtlmAuth\n",
    "sharepointUrl = \"https://drive.google.com/drive/u/1/folders/10jlvMtOZIXYVjVAfA7nx5lSqyTvPCnYz/IVM6303_ATE_Test_Plan_Rev1.xlsx\"\n",
    "username = \"harishkumarksha0@gmail.com\"\n",
    "password = \"Hari.9845356189\"\n",
    "response = requests.get(sharepointUrl, auth=HttpNtlmAuth(username,password),allow_redirects=True)\n",
    "print(response.status_code)\n",
    "if response.status_code == 200:\n",
    "  open('test.xlsx','wb').write(response.content)"
   ]
  },
  {
   "cell_type": "code",
   "execution_count": 43,
   "metadata": {},
   "outputs": [
    {
     "data": {
      "text/plain": [
       "False"
      ]
     },
     "execution_count": 43,
     "metadata": {},
     "output_type": "execute_result"
    }
   ],
   "source": [
    "from googledriver import download_folder\n",
    "\n",
    "URL = 'https://drive.google.com/drive/u/1/folders/IVM6303/IVM6303_ATE_Test_Plan_Rev1.xlsx'\n",
    "download_folder(URL)"
   ]
  }
 ],
 "metadata": {
  "kernelspec": {
   "display_name": "env",
   "language": "python",
   "name": "python3"
  },
  "language_info": {
   "codemirror_mode": {
    "name": "ipython",
    "version": 3
   },
   "file_extension": ".py",
   "mimetype": "text/x-python",
   "name": "python",
   "nbconvert_exporter": "python",
   "pygments_lexer": "ipython3",
   "version": "3.11.5"
  }
 },
 "nbformat": 4,
 "nbformat_minor": 2
}
